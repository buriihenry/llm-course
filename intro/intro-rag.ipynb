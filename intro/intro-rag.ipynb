{
 "cells": [
  {
   "cell_type": "code",
   "execution_count": null,
   "id": "b6ce1e85-f9d3-450a-9df5-ef44bc0966af",
   "metadata": {},
   "outputs": [],
   "source": [
    "import openai"
   ]
  },
  {
   "cell_type": "code",
   "execution_count": null,
   "id": "e94424fe-fbb3-4b1a-9ab2-f7aca8453207",
   "metadata": {},
   "outputs": [],
   "source": [
    "from openai import OpenAI"
   ]
  },
  {
   "cell_type": "code",
   "execution_count": null,
   "id": "b48a05d5-df82-4541-875e-4ac93b254980",
   "metadata": {},
   "outputs": [],
   "source": [
    "client = OpenAI(api_key='your_key')"
   ]
  },
  {
   "cell_type": "code",
   "execution_count": null,
   "id": "0c1c0228-a1a1-4269-a088-c5647528f793",
   "metadata": {},
   "outputs": [],
   "source": [
    "import os"
   ]
  },
  {
   "cell_type": "code",
   "execution_count": null,
   "id": "39913f92-5fd1-45fe-9b8f-1dbe773a3ca9",
   "metadata": {},
   "outputs": [],
   "source": [
    "response = client.chat.completions.create(\n",
    "    model = 'gpt-3.5-turbo',\n",
    "    messages=[{\"role\": \"user\", \"content\": \"is it too late to join the course?\"}]\n",
    ")"
   ]
  },
  {
   "cell_type": "code",
   "execution_count": null,
   "id": "954bfbbe-de84-4b68-a64d-1b0dea29dda3",
   "metadata": {},
   "outputs": [],
   "source": [
    "response.choices[0].message.content"
   ]
  },
  {
   "cell_type": "code",
   "execution_count": 1,
   "id": "6a988256-23f8-46c9-8220-823becfbdcf8",
   "metadata": {},
   "outputs": [
    {
     "name": "stdout",
     "output_type": "stream",
     "text": [
      "Collecting jupyterlab_wakatime\n",
      "  Downloading jupyterlab_wakatime-0.2.0-py3-none-any.whl.metadata (6.9 kB)\n",
      "Requirement already satisfied: jupyter-server<3,>=2.0.1 in c:\\users\\homepc\\appdata\\local\\programs\\python\\python311\\lib\\site-packages (from jupyterlab_wakatime) (2.14.2)\n",
      "Requirement already satisfied: anyio>=3.1.0 in c:\\users\\homepc\\appdata\\local\\programs\\python\\python311\\lib\\site-packages (from jupyter-server<3,>=2.0.1->jupyterlab_wakatime) (4.6.0)\n",
      "Requirement already satisfied: argon2-cffi>=21.1 in c:\\users\\homepc\\appdata\\local\\programs\\python\\python311\\lib\\site-packages (from jupyter-server<3,>=2.0.1->jupyterlab_wakatime) (23.1.0)\n",
      "Requirement already satisfied: jinja2>=3.0.3 in c:\\users\\homepc\\appdata\\local\\programs\\python\\python311\\lib\\site-packages (from jupyter-server<3,>=2.0.1->jupyterlab_wakatime) (3.1.4)\n",
      "Requirement already satisfied: jupyter-client>=7.4.4 in c:\\users\\homepc\\appdata\\local\\programs\\python\\python311\\lib\\site-packages (from jupyter-server<3,>=2.0.1->jupyterlab_wakatime) (8.6.3)\n",
      "Requirement already satisfied: jupyter-core!=5.0.*,>=4.12 in c:\\users\\homepc\\appdata\\local\\programs\\python\\python311\\lib\\site-packages (from jupyter-server<3,>=2.0.1->jupyterlab_wakatime) (5.7.2)\n",
      "Requirement already satisfied: jupyter-events>=0.9.0 in c:\\users\\homepc\\appdata\\local\\programs\\python\\python311\\lib\\site-packages (from jupyter-server<3,>=2.0.1->jupyterlab_wakatime) (0.10.0)\n",
      "Requirement already satisfied: jupyter-server-terminals>=0.4.4 in c:\\users\\homepc\\appdata\\local\\programs\\python\\python311\\lib\\site-packages (from jupyter-server<3,>=2.0.1->jupyterlab_wakatime) (0.5.3)\n",
      "Requirement already satisfied: nbconvert>=6.4.4 in c:\\users\\homepc\\appdata\\local\\programs\\python\\python311\\lib\\site-packages (from jupyter-server<3,>=2.0.1->jupyterlab_wakatime) (7.16.4)\n",
      "Requirement already satisfied: nbformat>=5.3.0 in c:\\users\\homepc\\appdata\\local\\programs\\python\\python311\\lib\\site-packages (from jupyter-server<3,>=2.0.1->jupyterlab_wakatime) (5.10.4)\n",
      "Requirement already satisfied: overrides>=5.0 in c:\\users\\homepc\\appdata\\local\\programs\\python\\python311\\lib\\site-packages (from jupyter-server<3,>=2.0.1->jupyterlab_wakatime) (7.7.0)\n",
      "Requirement already satisfied: packaging>=22.0 in c:\\users\\homepc\\appdata\\local\\programs\\python\\python311\\lib\\site-packages (from jupyter-server<3,>=2.0.1->jupyterlab_wakatime) (24.1)\n",
      "Requirement already satisfied: prometheus-client>=0.9 in c:\\users\\homepc\\appdata\\local\\programs\\python\\python311\\lib\\site-packages (from jupyter-server<3,>=2.0.1->jupyterlab_wakatime) (0.21.0)\n",
      "Requirement already satisfied: pywinpty>=2.0.1 in c:\\users\\homepc\\appdata\\local\\programs\\python\\python311\\lib\\site-packages (from jupyter-server<3,>=2.0.1->jupyterlab_wakatime) (2.0.13)\n",
      "Requirement already satisfied: pyzmq>=24 in c:\\users\\homepc\\appdata\\local\\programs\\python\\python311\\lib\\site-packages (from jupyter-server<3,>=2.0.1->jupyterlab_wakatime) (26.2.0)\n",
      "Requirement already satisfied: send2trash>=1.8.2 in c:\\users\\homepc\\appdata\\local\\programs\\python\\python311\\lib\\site-packages (from jupyter-server<3,>=2.0.1->jupyterlab_wakatime) (1.8.3)\n",
      "Requirement already satisfied: terminado>=0.8.3 in c:\\users\\homepc\\appdata\\local\\programs\\python\\python311\\lib\\site-packages (from jupyter-server<3,>=2.0.1->jupyterlab_wakatime) (0.18.1)\n",
      "Requirement already satisfied: tornado>=6.2.0 in c:\\users\\homepc\\appdata\\local\\programs\\python\\python311\\lib\\site-packages (from jupyter-server<3,>=2.0.1->jupyterlab_wakatime) (6.4.1)\n",
      "Requirement already satisfied: traitlets>=5.6.0 in c:\\users\\homepc\\appdata\\local\\programs\\python\\python311\\lib\\site-packages (from jupyter-server<3,>=2.0.1->jupyterlab_wakatime) (5.14.3)\n",
      "Requirement already satisfied: websocket-client>=1.7 in c:\\users\\homepc\\appdata\\local\\programs\\python\\python311\\lib\\site-packages (from jupyter-server<3,>=2.0.1->jupyterlab_wakatime) (1.8.0)\n",
      "Requirement already satisfied: idna>=2.8 in c:\\users\\homepc\\appdata\\local\\programs\\python\\python311\\lib\\site-packages (from anyio>=3.1.0->jupyter-server<3,>=2.0.1->jupyterlab_wakatime) (3.10)\n",
      "Requirement already satisfied: sniffio>=1.1 in c:\\users\\homepc\\appdata\\local\\programs\\python\\python311\\lib\\site-packages (from anyio>=3.1.0->jupyter-server<3,>=2.0.1->jupyterlab_wakatime) (1.3.1)\n",
      "Requirement already satisfied: argon2-cffi-bindings in c:\\users\\homepc\\appdata\\local\\programs\\python\\python311\\lib\\site-packages (from argon2-cffi>=21.1->jupyter-server<3,>=2.0.1->jupyterlab_wakatime) (21.2.0)\n",
      "Requirement already satisfied: MarkupSafe>=2.0 in c:\\users\\homepc\\appdata\\local\\programs\\python\\python311\\lib\\site-packages (from jinja2>=3.0.3->jupyter-server<3,>=2.0.1->jupyterlab_wakatime) (3.0.0)\n",
      "Requirement already satisfied: python-dateutil>=2.8.2 in c:\\users\\homepc\\appdata\\local\\programs\\python\\python311\\lib\\site-packages (from jupyter-client>=7.4.4->jupyter-server<3,>=2.0.1->jupyterlab_wakatime) (2.9.0.post0)\n",
      "Requirement already satisfied: platformdirs>=2.5 in c:\\users\\homepc\\appdata\\local\\programs\\python\\python311\\lib\\site-packages (from jupyter-core!=5.0.*,>=4.12->jupyter-server<3,>=2.0.1->jupyterlab_wakatime) (4.3.6)\n",
      "Requirement already satisfied: pywin32>=300 in c:\\users\\homepc\\appdata\\local\\programs\\python\\python311\\lib\\site-packages (from jupyter-core!=5.0.*,>=4.12->jupyter-server<3,>=2.0.1->jupyterlab_wakatime) (307)\n",
      "Requirement already satisfied: jsonschema>=4.18.0 in c:\\users\\homepc\\appdata\\local\\programs\\python\\python311\\lib\\site-packages (from jsonschema[format-nongpl]>=4.18.0->jupyter-events>=0.9.0->jupyter-server<3,>=2.0.1->jupyterlab_wakatime) (4.23.0)\n",
      "Requirement already satisfied: python-json-logger>=2.0.4 in c:\\users\\homepc\\appdata\\local\\programs\\python\\python311\\lib\\site-packages (from jupyter-events>=0.9.0->jupyter-server<3,>=2.0.1->jupyterlab_wakatime) (2.0.7)\n",
      "Requirement already satisfied: pyyaml>=5.3 in c:\\users\\homepc\\appdata\\local\\programs\\python\\python311\\lib\\site-packages (from jupyter-events>=0.9.0->jupyter-server<3,>=2.0.1->jupyterlab_wakatime) (6.0.2)\n",
      "Requirement already satisfied: referencing in c:\\users\\homepc\\appdata\\local\\programs\\python\\python311\\lib\\site-packages (from jupyter-events>=0.9.0->jupyter-server<3,>=2.0.1->jupyterlab_wakatime) (0.35.1)\n",
      "Requirement already satisfied: rfc3339-validator in c:\\users\\homepc\\appdata\\local\\programs\\python\\python311\\lib\\site-packages (from jupyter-events>=0.9.0->jupyter-server<3,>=2.0.1->jupyterlab_wakatime) (0.1.4)\n",
      "Requirement already satisfied: rfc3986-validator>=0.1.1 in c:\\users\\homepc\\appdata\\local\\programs\\python\\python311\\lib\\site-packages (from jupyter-events>=0.9.0->jupyter-server<3,>=2.0.1->jupyterlab_wakatime) (0.1.1)\n",
      "Requirement already satisfied: beautifulsoup4 in c:\\users\\homepc\\appdata\\local\\programs\\python\\python311\\lib\\site-packages (from nbconvert>=6.4.4->jupyter-server<3,>=2.0.1->jupyterlab_wakatime) (4.12.3)\n",
      "Requirement already satisfied: bleach!=5.0.0 in c:\\users\\homepc\\appdata\\local\\programs\\python\\python311\\lib\\site-packages (from nbconvert>=6.4.4->jupyter-server<3,>=2.0.1->jupyterlab_wakatime) (6.1.0)\n",
      "Requirement already satisfied: defusedxml in c:\\users\\homepc\\appdata\\local\\programs\\python\\python311\\lib\\site-packages (from nbconvert>=6.4.4->jupyter-server<3,>=2.0.1->jupyterlab_wakatime) (0.7.1)\n",
      "Requirement already satisfied: jupyterlab-pygments in c:\\users\\homepc\\appdata\\local\\programs\\python\\python311\\lib\\site-packages (from nbconvert>=6.4.4->jupyter-server<3,>=2.0.1->jupyterlab_wakatime) (0.3.0)\n",
      "Requirement already satisfied: mistune<4,>=2.0.3 in c:\\users\\homepc\\appdata\\local\\programs\\python\\python311\\lib\\site-packages (from nbconvert>=6.4.4->jupyter-server<3,>=2.0.1->jupyterlab_wakatime) (3.0.2)\n",
      "Requirement already satisfied: nbclient>=0.5.0 in c:\\users\\homepc\\appdata\\local\\programs\\python\\python311\\lib\\site-packages (from nbconvert>=6.4.4->jupyter-server<3,>=2.0.1->jupyterlab_wakatime) (0.10.0)\n",
      "Requirement already satisfied: pandocfilters>=1.4.1 in c:\\users\\homepc\\appdata\\local\\programs\\python\\python311\\lib\\site-packages (from nbconvert>=6.4.4->jupyter-server<3,>=2.0.1->jupyterlab_wakatime) (1.5.1)\n",
      "Requirement already satisfied: pygments>=2.4.1 in c:\\users\\homepc\\appdata\\local\\programs\\python\\python311\\lib\\site-packages (from nbconvert>=6.4.4->jupyter-server<3,>=2.0.1->jupyterlab_wakatime) (2.18.0)\n",
      "Requirement already satisfied: tinycss2 in c:\\users\\homepc\\appdata\\local\\programs\\python\\python311\\lib\\site-packages (from nbconvert>=6.4.4->jupyter-server<3,>=2.0.1->jupyterlab_wakatime) (1.3.0)\n",
      "Requirement already satisfied: fastjsonschema>=2.15 in c:\\users\\homepc\\appdata\\local\\programs\\python\\python311\\lib\\site-packages (from nbformat>=5.3.0->jupyter-server<3,>=2.0.1->jupyterlab_wakatime) (2.20.0)\n",
      "Requirement already satisfied: six>=1.9.0 in c:\\users\\homepc\\appdata\\local\\programs\\python\\python311\\lib\\site-packages (from bleach!=5.0.0->nbconvert>=6.4.4->jupyter-server<3,>=2.0.1->jupyterlab_wakatime) (1.16.0)\n",
      "Requirement already satisfied: webencodings in c:\\users\\homepc\\appdata\\local\\programs\\python\\python311\\lib\\site-packages (from bleach!=5.0.0->nbconvert>=6.4.4->jupyter-server<3,>=2.0.1->jupyterlab_wakatime) (0.5.1)\n",
      "Requirement already satisfied: attrs>=22.2.0 in c:\\users\\homepc\\appdata\\local\\programs\\python\\python311\\lib\\site-packages (from jsonschema>=4.18.0->jsonschema[format-nongpl]>=4.18.0->jupyter-events>=0.9.0->jupyter-server<3,>=2.0.1->jupyterlab_wakatime) (24.2.0)\n",
      "Requirement already satisfied: jsonschema-specifications>=2023.03.6 in c:\\users\\homepc\\appdata\\local\\programs\\python\\python311\\lib\\site-packages (from jsonschema>=4.18.0->jsonschema[format-nongpl]>=4.18.0->jupyter-events>=0.9.0->jupyter-server<3,>=2.0.1->jupyterlab_wakatime) (2023.12.1)\n",
      "Requirement already satisfied: rpds-py>=0.7.1 in c:\\users\\homepc\\appdata\\local\\programs\\python\\python311\\lib\\site-packages (from jsonschema>=4.18.0->jsonschema[format-nongpl]>=4.18.0->jupyter-events>=0.9.0->jupyter-server<3,>=2.0.1->jupyterlab_wakatime) (0.20.0)\n",
      "Requirement already satisfied: fqdn in c:\\users\\homepc\\appdata\\local\\programs\\python\\python311\\lib\\site-packages (from jsonschema[format-nongpl]>=4.18.0->jupyter-events>=0.9.0->jupyter-server<3,>=2.0.1->jupyterlab_wakatime) (1.5.1)\n",
      "Requirement already satisfied: isoduration in c:\\users\\homepc\\appdata\\local\\programs\\python\\python311\\lib\\site-packages (from jsonschema[format-nongpl]>=4.18.0->jupyter-events>=0.9.0->jupyter-server<3,>=2.0.1->jupyterlab_wakatime) (20.11.0)\n",
      "Requirement already satisfied: jsonpointer>1.13 in c:\\users\\homepc\\appdata\\local\\programs\\python\\python311\\lib\\site-packages (from jsonschema[format-nongpl]>=4.18.0->jupyter-events>=0.9.0->jupyter-server<3,>=2.0.1->jupyterlab_wakatime) (3.0.0)\n",
      "Requirement already satisfied: uri-template in c:\\users\\homepc\\appdata\\local\\programs\\python\\python311\\lib\\site-packages (from jsonschema[format-nongpl]>=4.18.0->jupyter-events>=0.9.0->jupyter-server<3,>=2.0.1->jupyterlab_wakatime) (1.3.0)\n",
      "Requirement already satisfied: webcolors>=24.6.0 in c:\\users\\homepc\\appdata\\local\\programs\\python\\python311\\lib\\site-packages (from jsonschema[format-nongpl]>=4.18.0->jupyter-events>=0.9.0->jupyter-server<3,>=2.0.1->jupyterlab_wakatime) (24.8.0)\n",
      "Requirement already satisfied: cffi>=1.0.1 in c:\\users\\homepc\\appdata\\local\\programs\\python\\python311\\lib\\site-packages (from argon2-cffi-bindings->argon2-cffi>=21.1->jupyter-server<3,>=2.0.1->jupyterlab_wakatime) (1.17.1)\n",
      "Requirement already satisfied: soupsieve>1.2 in c:\\users\\homepc\\appdata\\local\\programs\\python\\python311\\lib\\site-packages (from beautifulsoup4->nbconvert>=6.4.4->jupyter-server<3,>=2.0.1->jupyterlab_wakatime) (2.6)\n",
      "Requirement already satisfied: pycparser in c:\\users\\homepc\\appdata\\local\\programs\\python\\python311\\lib\\site-packages (from cffi>=1.0.1->argon2-cffi-bindings->argon2-cffi>=21.1->jupyter-server<3,>=2.0.1->jupyterlab_wakatime) (2.22)\n",
      "Requirement already satisfied: arrow>=0.15.0 in c:\\users\\homepc\\appdata\\local\\programs\\python\\python311\\lib\\site-packages (from isoduration->jsonschema[format-nongpl]>=4.18.0->jupyter-events>=0.9.0->jupyter-server<3,>=2.0.1->jupyterlab_wakatime) (1.3.0)\n",
      "Requirement already satisfied: types-python-dateutil>=2.8.10 in c:\\users\\homepc\\appdata\\local\\programs\\python\\python311\\lib\\site-packages (from arrow>=0.15.0->isoduration->jsonschema[format-nongpl]>=4.18.0->jupyter-events>=0.9.0->jupyter-server<3,>=2.0.1->jupyterlab_wakatime) (2.9.0.20241003)\n",
      "Downloading jupyterlab_wakatime-0.2.0-py3-none-any.whl (24 kB)\n",
      "Installing collected packages: jupyterlab_wakatime\n",
      "Successfully installed jupyterlab_wakatime-0.2.0\n",
      "Note: you may need to restart the kernel to use updated packages.\n"
     ]
    }
   ],
   "source": [
    "pip install jupyterlab_wakatime"
   ]
  },
  {
   "cell_type": "code",
   "execution_count": null,
   "id": "3b8ebcc8-7163-443d-8d1e-ca184ef8e346",
   "metadata": {},
   "outputs": [],
   "source": []
  }
 ],
 "metadata": {
  "kernelspec": {
   "display_name": "Python 3 (ipykernel)",
   "language": "python",
   "name": "python3"
  },
  "language_info": {
   "codemirror_mode": {
    "name": "ipython",
    "version": 3
   },
   "file_extension": ".py",
   "mimetype": "text/x-python",
   "name": "python",
   "nbconvert_exporter": "python",
   "pygments_lexer": "ipython3",
   "version": "3.11.9"
  }
 },
 "nbformat": 4,
 "nbformat_minor": 5
}
