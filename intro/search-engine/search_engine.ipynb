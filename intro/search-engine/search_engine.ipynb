{
 "cells": [
  {
   "cell_type": "code",
   "execution_count": 2,
   "id": "170d55c5-9447-44bd-a879-4d88ceee3dfc",
   "metadata": {},
   "outputs": [],
   "source": [
    "import pandas as pd"
   ]
  },
  {
   "cell_type": "code",
   "execution_count": 3,
   "id": "0692830d-6781-4727-a739-354662fddaee",
   "metadata": {},
   "outputs": [],
   "source": [
    "import requests \n",
    "\n",
    "docs_url = 'https://github.com/alexeygrigorev/llm-rag-workshop/raw/main/notebooks/documents.json'\n",
    "docs_response = requests.get(docs_url)\n",
    "documents_raw = docs_response.json()\n",
    "\n",
    "documents = []\n",
    "\n",
    "for course in documents_raw:\n",
    "    course_name = course['course']\n",
    "\n",
    "    for doc in course['documents']:\n",
    "        doc['course'] = course_name\n",
    "        documents.append(doc)"
   ]
  },
  {
   "cell_type": "code",
   "execution_count": 4,
   "id": "514406f9-9e96-4390-bae1-424bcb81068d",
   "metadata": {},
   "outputs": [
    {
     "data": {
      "text/plain": [
       "{'text': \"Yes, even if you don't register, you're still eligible to submit the homeworks.\\nBe aware, however, that there will be deadlines for turning in the final projects. So don't leave everything for the last minute.\",\n",
       " 'section': 'General course-related questions',\n",
       " 'question': 'Course - Can I still join the course after the start date?',\n",
       " 'course': 'data-engineering-zoomcamp'}"
      ]
     },
     "execution_count": 4,
     "metadata": {},
     "output_type": "execute_result"
    }
   ],
   "source": [
    "documents[2]"
   ]
  },
  {
   "cell_type": "code",
   "execution_count": 8,
   "id": "27e475de-07e8-4417-9d4f-4e8ab13adb01",
   "metadata": {},
   "outputs": [],
   "source": [
    "df = pd.DataFrame(documents,columns=['course','section','question','text'])"
   ]
  },
  {
   "cell_type": "code",
   "execution_count": 11,
   "id": "d5323c79",
   "metadata": {},
   "outputs": [
    {
     "data": {
      "text/html": [
       "<div>\n",
       "<style scoped>\n",
       "    .dataframe tbody tr th:only-of-type {\n",
       "        vertical-align: middle;\n",
       "    }\n",
       "\n",
       "    .dataframe tbody tr th {\n",
       "        vertical-align: top;\n",
       "    }\n",
       "\n",
       "    .dataframe thead th {\n",
       "        text-align: right;\n",
       "    }\n",
       "</style>\n",
       "<table border=\"1\" class=\"dataframe\">\n",
       "  <thead>\n",
       "    <tr style=\"text-align: right;\">\n",
       "      <th></th>\n",
       "      <th>course</th>\n",
       "      <th>section</th>\n",
       "      <th>question</th>\n",
       "      <th>text</th>\n",
       "    </tr>\n",
       "  </thead>\n",
       "  <tbody>\n",
       "    <tr>\n",
       "      <th>0</th>\n",
       "      <td>data-engineering-zoomcamp</td>\n",
       "      <td>General course-related questions</td>\n",
       "      <td>Course - When will the course start?</td>\n",
       "      <td>The purpose of this document is to capture fre...</td>\n",
       "    </tr>\n",
       "    <tr>\n",
       "      <th>1</th>\n",
       "      <td>data-engineering-zoomcamp</td>\n",
       "      <td>General course-related questions</td>\n",
       "      <td>Course - What are the prerequisites for this c...</td>\n",
       "      <td>GitHub - DataTalksClub data-engineering-zoomca...</td>\n",
       "    </tr>\n",
       "    <tr>\n",
       "      <th>2</th>\n",
       "      <td>data-engineering-zoomcamp</td>\n",
       "      <td>General course-related questions</td>\n",
       "      <td>Course - Can I still join the course after the...</td>\n",
       "      <td>Yes, even if you don't register, you're still ...</td>\n",
       "    </tr>\n",
       "    <tr>\n",
       "      <th>3</th>\n",
       "      <td>data-engineering-zoomcamp</td>\n",
       "      <td>General course-related questions</td>\n",
       "      <td>Course - I have registered for the Data Engine...</td>\n",
       "      <td>You don't need it. You're accepted. You can al...</td>\n",
       "    </tr>\n",
       "    <tr>\n",
       "      <th>4</th>\n",
       "      <td>data-engineering-zoomcamp</td>\n",
       "      <td>General course-related questions</td>\n",
       "      <td>Course - What can I do before the course starts?</td>\n",
       "      <td>You can start by installing and setting up all...</td>\n",
       "    </tr>\n",
       "    <tr>\n",
       "      <th>...</th>\n",
       "      <td>...</td>\n",
       "      <td>...</td>\n",
       "      <td>...</td>\n",
       "      <td>...</td>\n",
       "    </tr>\n",
       "    <tr>\n",
       "      <th>430</th>\n",
       "      <td>data-engineering-zoomcamp</td>\n",
       "      <td>Workshop 2 - RisingWave</td>\n",
       "      <td>Unable to Open Dashboard as xdg-open doesn’t o...</td>\n",
       "      <td>Refer to the solution given in the first solut...</td>\n",
       "    </tr>\n",
       "    <tr>\n",
       "      <th>431</th>\n",
       "      <td>data-engineering-zoomcamp</td>\n",
       "      <td>Workshop 2 - RisingWave</td>\n",
       "      <td>Resolving Python Interpreter Path Inconsistenc...</td>\n",
       "      <td>Example Error:\\nWhen attempting to execute a P...</td>\n",
       "    </tr>\n",
       "    <tr>\n",
       "      <th>432</th>\n",
       "      <td>data-engineering-zoomcamp</td>\n",
       "      <td>Workshop 2 - RisingWave</td>\n",
       "      <td>How does windowing work in Sql?</td>\n",
       "      <td>Ans : Windowing in streaming SQL involves defi...</td>\n",
       "    </tr>\n",
       "    <tr>\n",
       "      <th>433</th>\n",
       "      <td>data-engineering-zoomcamp</td>\n",
       "      <td>Triggers in Mage via CLI</td>\n",
       "      <td>Encountering the error \"ModuleNotFoundError: N...</td>\n",
       "      <td>Python 3.12.1, is not compatible with kafka-py...</td>\n",
       "    </tr>\n",
       "    <tr>\n",
       "      <th>434</th>\n",
       "      <td>data-engineering-zoomcamp</td>\n",
       "      <td>Triggers in Mage via CLI</td>\n",
       "      <td>Basic Commands</td>\n",
       "      <td>Docker Commands\\n# Create a Docker Image from ...</td>\n",
       "    </tr>\n",
       "  </tbody>\n",
       "</table>\n",
       "<p>435 rows × 4 columns</p>\n",
       "</div>"
      ],
      "text/plain": [
       "                        course                           section  \\\n",
       "0    data-engineering-zoomcamp  General course-related questions   \n",
       "1    data-engineering-zoomcamp  General course-related questions   \n",
       "2    data-engineering-zoomcamp  General course-related questions   \n",
       "3    data-engineering-zoomcamp  General course-related questions   \n",
       "4    data-engineering-zoomcamp  General course-related questions   \n",
       "..                         ...                               ...   \n",
       "430  data-engineering-zoomcamp           Workshop 2 - RisingWave   \n",
       "431  data-engineering-zoomcamp           Workshop 2 - RisingWave   \n",
       "432  data-engineering-zoomcamp           Workshop 2 - RisingWave   \n",
       "433  data-engineering-zoomcamp          Triggers in Mage via CLI   \n",
       "434  data-engineering-zoomcamp          Triggers in Mage via CLI   \n",
       "\n",
       "                                              question  \\\n",
       "0                 Course - When will the course start?   \n",
       "1    Course - What are the prerequisites for this c...   \n",
       "2    Course - Can I still join the course after the...   \n",
       "3    Course - I have registered for the Data Engine...   \n",
       "4     Course - What can I do before the course starts?   \n",
       "..                                                 ...   \n",
       "430  Unable to Open Dashboard as xdg-open doesn’t o...   \n",
       "431  Resolving Python Interpreter Path Inconsistenc...   \n",
       "432                    How does windowing work in Sql?   \n",
       "433  Encountering the error \"ModuleNotFoundError: N...   \n",
       "434                                     Basic Commands   \n",
       "\n",
       "                                                  text  \n",
       "0    The purpose of this document is to capture fre...  \n",
       "1    GitHub - DataTalksClub data-engineering-zoomca...  \n",
       "2    Yes, even if you don't register, you're still ...  \n",
       "3    You don't need it. You're accepted. You can al...  \n",
       "4    You can start by installing and setting up all...  \n",
       "..                                                 ...  \n",
       "430  Refer to the solution given in the first solut...  \n",
       "431  Example Error:\\nWhen attempting to execute a P...  \n",
       "432  Ans : Windowing in streaming SQL involves defi...  \n",
       "433  Python 3.12.1, is not compatible with kafka-py...  \n",
       "434  Docker Commands\\n# Create a Docker Image from ...  \n",
       "\n",
       "[435 rows x 4 columns]"
      ]
     },
     "execution_count": 11,
     "metadata": {},
     "output_type": "execute_result"
    }
   ],
   "source": [
    "df[df.course == 'data-engineering-zoomcamp']"
   ]
  },
  {
   "cell_type": "code",
   "execution_count": null,
   "id": "1626c9a6",
   "metadata": {},
   "outputs": [],
   "source": []
  }
 ],
 "metadata": {
  "kernelspec": {
   "display_name": "Python 3",
   "language": "python",
   "name": "python3"
  },
  "language_info": {
   "codemirror_mode": {
    "name": "ipython",
    "version": 3
   },
   "file_extension": ".py",
   "mimetype": "text/x-python",
   "name": "python",
   "nbconvert_exporter": "python",
   "pygments_lexer": "ipython3",
   "version": "3.11.9"
  }
 },
 "nbformat": 4,
 "nbformat_minor": 5
}
