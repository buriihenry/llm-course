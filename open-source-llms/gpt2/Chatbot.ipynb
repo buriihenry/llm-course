{
 "cells": [
  {
   "cell_type": "code",
   "execution_count": 5,
   "id": "48ff3516-cf2a-422b-a627-77920268f602",
   "metadata": {},
   "outputs": [],
   "source": [
    "import os\n",
    "import chainlit as cl\n",
    "from dotenv import load_dotenv\n",
    "from langchain import HuggingFaceHub, PromptTemplate, LLMChain"
   ]
  },
  {
   "cell_type": "code",
   "execution_count": 6,
   "id": "cea733a3",
   "metadata": {},
   "outputs": [],
   "source": [
    "# Create a file named .env in your project directory and add your API key like this:\n",
    "# HUGGINGFACE_API_KEY=Your_API KEY\n",
    "# The save the file"
   ]
  },
  {
   "cell_type": "code",
   "execution_count": 7,
   "id": "df42ccf7",
   "metadata": {},
   "outputs": [],
   "source": [
    "\n",
    "# Load environment variables from .env file\n",
    "load_dotenv()\n",
    "# Retrieve the API key\n",
    "api_key = os.getenv(\"HUGGINGFACE_API_KEY\")\n"
   ]
  },
  {
   "cell_type": "code",
   "execution_count": 8,
   "id": "c037d217",
   "metadata": {},
   "outputs": [],
   "source": [
    "model_id = \"gpt2-medium\"  #355M parameters\n",
    "conv_model = HuggingFaceHub(huggingfacehub_api_token=api_key,\n",
    "                            repo_id=model_id,\n",
    "                            model_kwargs={\"temperature\":0.8, \"max_new_tokens\":200}) #0 to 1"
   ]
  },
  {
   "cell_type": "code",
   "execution_count": 9,
   "id": "cea20809",
   "metadata": {},
   "outputs": [],
   "source": [
    "template = \"\"\"You are a helpful AI assistant that makes stories by completing the query provided by the user \n",
    "\n",
    "{query}\n",
    "\"\"\"\n",
    "prompt = PromptTemplate(template=template, input_variables=['query'])"
   ]
  },
  {
   "cell_type": "code",
   "execution_count": null,
   "id": "4eb34c01",
   "metadata": {},
   "outputs": [],
   "source": [
    "conv_chain = LLMChain(llm=conv_model,\n",
    "                      prompt=prompt,\n",
    "                      verbose=True)"
   ]
  },
  {
   "cell_type": "code",
   "execution_count": null,
   "id": "f96596d9",
   "metadata": {},
   "outputs": [],
   "source": [
    "print(conv_chain.run(\"In 1998 in Kenya \"))"
   ]
  },
  {
   "cell_type": "markdown",
   "id": "24a8b622",
   "metadata": {},
   "source": [
    "Creating a Chatbot Interface/UI\n",
    "We shall use Chainlit\n",
    "Chainlit is a python package to create UI for chat interface applications We need to use the decorator from Chainlit fro langchain"
   ]
  }
 ],
 "metadata": {
  "kernelspec": {
   "display_name": "Python 3",
   "language": "python",
   "name": "python3"
  },
  "language_info": {
   "codemirror_mode": {
    "name": "ipython",
    "version": 3
   },
   "file_extension": ".py",
   "mimetype": "text/x-python",
   "name": "python",
   "nbconvert_exporter": "python",
   "pygments_lexer": "ipython3",
   "version": "3.11.9"
  }
 },
 "nbformat": 4,
 "nbformat_minor": 5
}
