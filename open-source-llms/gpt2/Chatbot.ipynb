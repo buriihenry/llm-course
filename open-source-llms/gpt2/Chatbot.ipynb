{
 "cells": [
  {
   "cell_type": "code",
   "execution_count": 11,
   "id": "48ff3516-cf2a-422b-a627-77920268f602",
   "metadata": {},
   "outputs": [],
   "source": [
    "import os\n",
    "import chainlit as cl\n",
    "from dotenv import load_dotenv\n",
    "from langchain import HuggingFaceHub, PromptTemplate, LLMChain"
   ]
  },
  {
   "cell_type": "code",
   "execution_count": 12,
   "id": "cea733a3",
   "metadata": {},
   "outputs": [],
   "source": [
    "# Create a file named .env in your project directory and add your API key like this:\n",
    "# HUGGINGFACE_API_KEY=Your_API KEY\n",
    "# The save the file"
   ]
  },
  {
   "cell_type": "code",
   "execution_count": 13,
   "id": "df42ccf7",
   "metadata": {},
   "outputs": [],
   "source": [
    "\n",
    "# Load environment variables from .env file\n",
    "load_dotenv()\n",
    "# Retrieve the API key\n",
    "api_key = os.getenv(\"HUGGINGFACE_API_KEY\")\n"
   ]
  },
  {
   "cell_type": "code",
   "execution_count": 14,
   "id": "c037d217",
   "metadata": {},
   "outputs": [],
   "source": [
    "model_id = \"gpt2-medium\"  #355M parameters\n",
    "conv_model = HuggingFaceHub(huggingfacehub_api_token=api_key,\n",
    "                            repo_id=model_id,\n",
    "                            model_kwargs={\"temperature\":0.8, \"max_new_tokens\":200}) #0 to 1"
   ]
  },
  {
   "cell_type": "code",
   "execution_count": 15,
   "id": "cea20809",
   "metadata": {},
   "outputs": [],
   "source": [
    "template = \"\"\"You are a helpful AI assistant that makes stories by completing the query provided by the user \n",
    "\n",
    "{query}\n",
    "\"\"\"\n",
    "prompt = PromptTemplate(template=template, input_variables=['query'])"
   ]
  },
  {
   "cell_type": "code",
   "execution_count": 16,
   "id": "4eb34c01",
   "metadata": {},
   "outputs": [
    {
     "name": "stderr",
     "output_type": "stream",
     "text": [
      "C:\\Users\\HomePC\\AppData\\Local\\Temp\\ipykernel_10824\\2247933937.py:1: LangChainDeprecationWarning: The class `LLMChain` was deprecated in LangChain 0.1.17 and will be removed in 1.0. Use :meth:`~RunnableSequence, e.g., `prompt | llm`` instead.\n",
      "  conv_chain = LLMChain(llm=conv_model,\n"
     ]
    }
   ],
   "source": [
    "conv_chain = LLMChain(llm=conv_model,\n",
    "                      prompt=prompt,\n",
    "                      verbose=True)"
   ]
  },
  {
   "cell_type": "code",
   "execution_count": 19,
   "id": "f96596d9",
   "metadata": {},
   "outputs": [
    {
     "name": "stdout",
     "output_type": "stream",
     "text": [
      "\n",
      "\n",
      "\u001b[1m> Entering new LLMChain chain...\u001b[0m\n",
      "Prompt after formatting:\n",
      "\u001b[32;1m\u001b[1;3mYou are a helpful AI assistant that makes stories by completing the query provided by the user \n",
      "\n",
      "In 1998 in Kenya \n",
      "\u001b[0m\n",
      "\n",
      "\u001b[1m> Finished chain.\u001b[0m\n",
      "You are a helpful AI assistant that makes stories by completing the query provided by the user \n",
      "\n",
      "In 1998 in Kenya \n",
      "\n",
      "The first smartphone on the planet to display a geocoded QR code. Addresses are stored by different parties in different countries across the world - into different databases. This makes your messages get delivered even to the people you doubt most.\n",
      "\n",
      "In 1993 in Washington, D.C.\n",
      "\n",
      "The first mobile phone to be invented by an American To improve your email, one of the most important users of this device is the President. It will continue to update and improve the better it gets, pulling you into the world — and yourself.\n",
      "\n",
      "In The World is Not a Stage, a book about the world's first mobile telephone call, the inventor of the phone told UNICEF how their first phone calls were made. Thisontent was never authorized by the developer to be published.\n",
      "\n",
      "In 1956 at a CERN research facility in Switzerland, the first purpose-built telephone was created. This was in the early days of the telephone, enabling scientific research in a building much larger\n"
     ]
    }
   ],
   "source": [
    "print(conv_chain.run(\"In 1998 in Kenya \"))"
   ]
  },
  {
   "cell_type": "markdown",
   "id": "24a8b622",
   "metadata": {},
   "source": [
    "Creating a Chatbot Interface/UI\n",
    "We shall use Chainlit\n",
    "Chainlit is a python package to create UI for chat interface applications We need to use the decorator from Chainlit fro langchain"
   ]
  }
 ],
 "metadata": {
  "kernelspec": {
   "display_name": "Python 3",
   "language": "python",
   "name": "python3"
  },
  "language_info": {
   "codemirror_mode": {
    "name": "ipython",
    "version": 3
   },
   "file_extension": ".py",
   "mimetype": "text/x-python",
   "name": "python",
   "nbconvert_exporter": "python",
   "pygments_lexer": "ipython3",
   "version": "3.11.9"
  }
 },
 "nbformat": 4,
 "nbformat_minor": 5
}
